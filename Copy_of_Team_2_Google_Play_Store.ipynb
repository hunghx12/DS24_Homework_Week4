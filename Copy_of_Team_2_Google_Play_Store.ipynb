{
  "nbformat": 4,
  "nbformat_minor": 0,
  "metadata": {
    "kernelspec": {
      "display_name": "Python 3",
      "language": "python",
      "name": "python3"
    },
    "language_info": {
      "codemirror_mode": {
        "name": "ipython",
        "version": 3
      },
      "file_extension": ".py",
      "mimetype": "text/x-python",
      "name": "python",
      "nbconvert_exporter": "python",
      "pygments_lexer": "ipython3",
      "version": "3.7.3"
    },
    "colab": {
      "name": "Copy of Team 2 - Google Play Store.ipynb",
      "provenance": [],
      "collapsed_sections": [],
      "toc_visible": true
    }
  },
  "cells": [
    {
      "cell_type": "markdown",
      "metadata": {
        "id": "wOdEfFo5ycwH",
        "colab_type": "text"
      },
      "source": [
        "# Team 2 - Google Play Store\n",
        "\n",
        "![](https://www.brandnol.com/wp-content/uploads/2019/04/Google-Play-Store-Search.jpg)\n",
        "\n",
        "_For more information about the dataset, read [here](https://www.kaggle.com/lava18/google-play-store-apps)._\n",
        "\n",
        "## Your tasks\n",
        "- Name your team!\n",
        "- Read the source and do some quick research to understand more about the dataset and its topic\n",
        "- Clean the data\n",
        "- Perform Exploratory Data Analysis on the dataset\n",
        "- Analyze the data more deeply and extract insights\n",
        "- Visualize your analysis on Google Data Studio\n",
        "- Present your works in front of the class and guests next Monday\n",
        "\n",
        "## Submission Guide\n",
        "- Create a Github repository for your project\n",
        "- Upload the dataset (.csv file) and the Jupyter Notebook to your Github repository. In the Jupyter Notebook, **include the link to your Google Data Studio report**.\n",
        "- Submit your works through this [Google Form](https://forms.gle/oxtXpGfS8JapVj3V8).\n",
        "\n",
        "## Tips for Data Cleaning, Manipulation & Visualization\n",
        "- Here are some of our tips for Data Cleaning, Manipulation & Visualization. [Click here](https://hackmd.io/cBNV7E6TT2WMliQC-GTw1A)\n",
        "\n",
        "_____________________________\n",
        "\n",
        "## Some Hints for This Dataset:\n",
        "- There are lots of null values. How should we handle them?\n",
        "- Column `Installs` and `Size` have some strange values. Can you identify them?\n",
        "- Values in `Size` column are currently in different format: `M`, `k`. And how about the value `Varies with device`?\n",
        "- `Price` column is not in the right data type\n",
        "- And more...\n"
      ]
    },
    {
      "cell_type": "code",
      "metadata": {
        "id": "26q4UgyJycwU",
        "colab_type": "code",
        "colab": {}
      },
      "source": [
        "# Start your codes here!\n",
        "import pandas as pd\n",
        "\n",
        "data = pd.read_csv('sample_data/google-play-store.csv')"
      ],
      "execution_count": 169,
      "outputs": []
    },
    {
      "cell_type": "code",
      "metadata": {
        "id": "ar1QM7rwNymI",
        "colab_type": "code",
        "colab": {
          "base_uri": "https://localhost:8080/",
          "height": 357
        },
        "outputId": "520256dc-89fa-4f68-c44d-2c0f68be76b5"
      },
      "source": [
        "data.info()"
      ],
      "execution_count": 170,
      "outputs": [
        {
          "output_type": "stream",
          "text": [
            "<class 'pandas.core.frame.DataFrame'>\n",
            "RangeIndex: 10841 entries, 0 to 10840\n",
            "Data columns (total 13 columns):\n",
            " #   Column          Non-Null Count  Dtype  \n",
            "---  ------          --------------  -----  \n",
            " 0   App             10841 non-null  object \n",
            " 1   Category        10841 non-null  object \n",
            " 2   Rating          9367 non-null   float64\n",
            " 3   Reviews         10841 non-null  object \n",
            " 4   Size            10841 non-null  object \n",
            " 5   Installs        10841 non-null  object \n",
            " 6   Type            10840 non-null  object \n",
            " 7   Price           10841 non-null  object \n",
            " 8   Content Rating  10840 non-null  object \n",
            " 9   Genres          10841 non-null  object \n",
            " 10  Last Updated    10841 non-null  object \n",
            " 11  Current Ver     10833 non-null  object \n",
            " 12  Android Ver     10838 non-null  object \n",
            "dtypes: float64(1), object(12)\n",
            "memory usage: 1.1+ MB\n"
          ],
          "name": "stdout"
        }
      ]
    },
    {
      "cell_type": "code",
      "metadata": {
        "id": "F4KcrYPgOZ4Q",
        "colab_type": "code",
        "colab": {}
      },
      "source": [
        "data['Rating'].fillna((data['Rating'].mean()), inplace = True)"
      ],
      "execution_count": 171,
      "outputs": []
    },
    {
      "cell_type": "code",
      "metadata": {
        "id": "ZfY_QSvDQC6s",
        "colab_type": "code",
        "colab": {
          "base_uri": "https://localhost:8080/",
          "height": 221
        },
        "outputId": "ce9765a8-05f6-4a45-a232-131a4ab1ea1f"
      },
      "source": [
        "data['Rating']"
      ],
      "execution_count": 172,
      "outputs": [
        {
          "output_type": "execute_result",
          "data": {
            "text/plain": [
              "0        4.100000\n",
              "1        3.900000\n",
              "2        4.700000\n",
              "3        4.500000\n",
              "4        4.300000\n",
              "           ...   \n",
              "10836    4.500000\n",
              "10837    5.000000\n",
              "10838    4.193338\n",
              "10839    4.500000\n",
              "10840    4.500000\n",
              "Name: Rating, Length: 10841, dtype: float64"
            ]
          },
          "metadata": {
            "tags": []
          },
          "execution_count": 172
        }
      ]
    },
    {
      "cell_type": "code",
      "metadata": {
        "id": "xEfSPkZjQd4z",
        "colab_type": "code",
        "colab": {}
      },
      "source": [
        "repl_dict = {'[kK]': '*1e3', '[mM]': '*1e6', '[bB]': '*1e9', }\n",
        "data.loc[data['Size'].str.match('^\\d+(\\.\\d+)?[MmKk]*$'), 'Size'] = data.loc[data['Size'].str.match('^\\d+(\\.\\d+)?[MmKk]*$'), 'Size'].replace(repl_dict, regex=True).apply(pd.eval)"
      ],
      "execution_count": 173,
      "outputs": []
    },
    {
      "cell_type": "code",
      "metadata": {
        "id": "c0PV9X2hjSn8",
        "colab_type": "code",
        "colab": {}
      },
      "source": [
        "data['Size'] = data['Size'].apply(pd.to_numeric,errors='coerce')\n",
        "data['Size'].fillna((data['Size'].mean()), inplace = True)"
      ],
      "execution_count": 174,
      "outputs": []
    },
    {
      "cell_type": "code",
      "metadata": {
        "id": "YVOG3a5Cu51X",
        "colab_type": "code",
        "colab": {
          "base_uri": "https://localhost:8080/",
          "height": 221
        },
        "outputId": "46662326-34d1-472f-931e-c3b5aab1355c"
      },
      "source": [
        "data['Size']"
      ],
      "execution_count": 175,
      "outputs": [
        {
          "output_type": "execute_result",
          "data": {
            "text/plain": [
              "0        1.900000e+07\n",
              "1        1.400000e+07\n",
              "2        8.700000e+06\n",
              "3        2.500000e+07\n",
              "4        2.800000e+06\n",
              "             ...     \n",
              "10836    5.300000e+07\n",
              "10837    3.600000e+06\n",
              "10838    9.500000e+06\n",
              "10839    2.151653e+07\n",
              "10840    1.900000e+07\n",
              "Name: Size, Length: 10841, dtype: float64"
            ]
          },
          "metadata": {
            "tags": []
          },
          "execution_count": 175
        }
      ]
    },
    {
      "cell_type": "code",
      "metadata": {
        "id": "HkErCp81vVIA",
        "colab_type": "code",
        "colab": {}
      },
      "source": [
        "data['Installs'] = data['Installs'].str.replace(r'\\+$', '').str.replace(',', '')\n",
        "data.loc[data['Installs'].str.match('^\\d+$'), 'Installs'] = data.loc[data['Installs'].str.match('^\\d+$'), 'Installs'].astype('float')"
      ],
      "execution_count": 176,
      "outputs": []
    },
    {
      "cell_type": "code",
      "metadata": {
        "id": "RnswwvD07gJJ",
        "colab_type": "code",
        "colab": {}
      },
      "source": [
        "#data['Price'] = data['Price'].apply(pd.to_numeric,errors='coerce')\n",
        "data['Price'] = data['Price'].str.replace('$', '')\n",
        "data.loc[data['Type'] == 'Paid', 'Price'] = data.loc[data['Type'] == 'Paid', 'Price'].apply(pd.to_numeric,errors='coerce')\n",
        "data.loc[data['Type'] == 'Paid', 'Price'].fillna((data.loc[data['Type'] == 'Paid', 'Price'].mean()), inplace = True)"
      ],
      "execution_count": 177,
      "outputs": []
    },
    {
      "cell_type": "code",
      "metadata": {
        "id": "6nbgUsTa9y1Z",
        "colab_type": "code",
        "colab": {
          "base_uri": "https://localhost:8080/",
          "height": 221
        },
        "outputId": "c5997986-a95e-4a5d-fe23-149ad987e0e3"
      },
      "source": [
        "data.loc[data['Type'] == 'Paid', 'Price']"
      ],
      "execution_count": 178,
      "outputs": [
        {
          "output_type": "execute_result",
          "data": {
            "text/plain": [
              "234       4.99\n",
              "235       4.99\n",
              "290       4.99\n",
              "291       4.99\n",
              "427       3.99\n",
              "         ...  \n",
              "10735     0.99\n",
              "10760     7.99\n",
              "10782    16.99\n",
              "10785      1.2\n",
              "10798     1.04\n",
              "Name: Price, Length: 800, dtype: object"
            ]
          },
          "metadata": {
            "tags": []
          },
          "execution_count": 178
        }
      ]
    },
    {
      "cell_type": "code",
      "metadata": {
        "id": "Q77KzImlCex1",
        "colab_type": "code",
        "colab": {}
      },
      "source": [
        "data.to_csv('google-play-store-clean.csv')"
      ],
      "execution_count": 180,
      "outputs": []
    }
  ]
}